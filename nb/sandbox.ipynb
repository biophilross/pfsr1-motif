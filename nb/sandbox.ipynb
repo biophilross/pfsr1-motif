{
 "metadata": {
  "name": "",
  "signature": "sha256:7fd6c14f9d16e5b391487dcfb0c3d7b684290f3df0def3c05662df37608c0252"
 },
 "nbformat": 3,
 "nbformat_minor": 0,
 "worksheets": [
  {
   "cells": [
    {
     "cell_type": "code",
     "collapsed": false,
     "input": [
      "%matplotlib inline\n",
      "import os\n",
      "import sys\n",
      "from pandas import *\n",
      "import matplotlib as mpl\n",
      "import matplotlib.pyplot as plt\n",
      "\n",
      "mpl.style.use('ggplot')\n",
      "\n",
      "data = os.getcwd() + \"/../data/\"\n",
      "results = os.getcwd() + \"/../results/\""
     ],
     "language": "python",
     "metadata": {},
     "outputs": [],
     "prompt_number": 5
    },
    {
     "cell_type": "code",
     "collapsed": false,
     "input": [
      "positive_ids = read_table(data + 'probes/positive_gene_ids.txt', names=['id'])"
     ],
     "language": "python",
     "metadata": {},
     "outputs": [],
     "prompt_number": 10
    },
    {
     "cell_type": "markdown",
     "metadata": {},
     "source": [
      "## Fimo-0.0001"
     ]
    },
    {
     "cell_type": "code",
     "collapsed": false,
     "input": [
      "norm1 = read_table(data + \"fimo-0.0001-3/SBM1_norm_hits.txt\")\n",
      "norm2 = read_table(data + \"fimo-0.0001-3/SBM2_norm_hits.txt\")\n",
      "outliers1 = read_table(data + \"fimo-0.0001-3/SBM1_outliers.txt\")\n",
      "outliers2 = read_table(data + \"fimo-0.0001-3/SBM2_outliers.txt\")"
     ],
     "language": "python",
     "metadata": {},
     "outputs": [],
     "prompt_number": 9
    },
    {
     "cell_type": "code",
     "collapsed": false,
     "input": [
      "s = 0\n",
      "for outlier in outliers1['id']:\n",
      "    if outlier in positive_ids['id'].values:\n",
      "        s += 1\n",
      "        print outlier\n",
      "s"
     ],
     "language": "python",
     "metadata": {},
     "outputs": [
      {
       "output_type": "stream",
       "stream": "stdout",
       "text": [
        "PF3D7_1024800\n",
        "PF3D7_1318300\n",
        "PF3D7_1035200\n"
       ]
      },
      {
       "metadata": {},
       "output_type": "pyout",
       "prompt_number": 11,
       "text": [
        "3"
       ]
      }
     ],
     "prompt_number": 11
    },
    {
     "cell_type": "code",
     "collapsed": false,
     "input": [
      "s = 0\n",
      "for outlier in outliers2['id']:\n",
      "    if outlier in positive_ids['id'].values:\n",
      "        s += 1\n",
      "        print outlier\n",
      "s"
     ],
     "language": "python",
     "metadata": {},
     "outputs": [
      {
       "output_type": "stream",
       "stream": "stdout",
       "text": [
        "PF3D7_0526600\n",
        "PF3D7_1038400\n"
       ]
      },
      {
       "metadata": {},
       "output_type": "pyout",
       "prompt_number": 12,
       "text": [
        "2"
       ]
      }
     ],
     "prompt_number": 12
    },
    {
     "cell_type": "code",
     "collapsed": false,
     "input": [
      "norm1 = read_table(data + \"fimo-0.0001-2/SBM1_norm_hits.txt\")\n",
      "norm2 = read_table(data + \"fimo-0.0001-2/SBM2_norm_hits.txt\")\n",
      "outliers1 = read_table(data + \"fimo-0.0001-2/SBM1_outliers.txt\")\n",
      "outliers2 = read_table(data + \"fimo-0.0001-2/SBM2_outliers.txt\")"
     ],
     "language": "python",
     "metadata": {},
     "outputs": [],
     "prompt_number": 14
    },
    {
     "cell_type": "code",
     "collapsed": false,
     "input": [
      "s = 0\n",
      "for outlier in outliers1['id']:\n",
      "    if outlier in positive_ids['id'].values:\n",
      "        s += 1\n",
      "        print outlier\n",
      "s"
     ],
     "language": "python",
     "metadata": {},
     "outputs": [
      {
       "output_type": "stream",
       "stream": "stdout",
       "text": [
        "PF3D7_1014300\n",
        "PF3D7_1024800\n",
        "PF3D7_1318300\n",
        "PF3D7_1035200\n"
       ]
      },
      {
       "metadata": {},
       "output_type": "pyout",
       "prompt_number": 15,
       "text": [
        "4"
       ]
      }
     ],
     "prompt_number": 15
    },
    {
     "cell_type": "code",
     "collapsed": false,
     "input": [
      "s = 0\n",
      "for outlier in outliers2['id']:\n",
      "    if outlier in positive_ids['id'].values:\n",
      "        s += 1\n",
      "        print outlier\n",
      "s"
     ],
     "language": "python",
     "metadata": {},
     "outputs": [
      {
       "output_type": "stream",
       "stream": "stdout",
       "text": [
        "PF3D7_0526600\n",
        "PF3D7_1149000\n",
        "PF3D7_0630000\n",
        "PF3D7_1038400\n"
       ]
      },
      {
       "metadata": {},
       "output_type": "pyout",
       "prompt_number": 16,
       "text": [
        "4"
       ]
      }
     ],
     "prompt_number": 16
    },
    {
     "cell_type": "markdown",
     "metadata": {},
     "source": [
      "## Fimo-0.001"
     ]
    },
    {
     "cell_type": "code",
     "collapsed": false,
     "input": [
      "norm1 = read_table(data + \"fimo-0.001-3/SBM1_norm_hits.txt\")\n",
      "norm2 = read_table(data + \"fimo-0.001-3/SBM2_norm_hits.txt\")\n",
      "outliers1 = read_table(data + \"fimo-0.001-3/SBM1_outliers.txt\")\n",
      "outliers2 = read_table(data + \"fimo-0.001-3/SBM2_outliers.txt\")"
     ],
     "language": "python",
     "metadata": {},
     "outputs": [],
     "prompt_number": 20
    },
    {
     "cell_type": "code",
     "collapsed": false,
     "input": [
      "s = 0\n",
      "for outlier in outliers1['id']:\n",
      "    if outlier in positive_ids['id'].values:\n",
      "        s += 1\n",
      "        print outlier\n",
      "s"
     ],
     "language": "python",
     "metadata": {},
     "outputs": [
      {
       "output_type": "stream",
       "stream": "stdout",
       "text": [
        "PF3D7_0508900\n",
        "PF3D7_0612200\n",
        "PF3D7_1307400\n",
        "PF3D7_1038400\n",
        "PF3D7_1014300\n",
        "PF3D7_1149000\n",
        "PF3D7_1024800\n",
        "PF3D7_1318300\n",
        "PF3D7_1035200\n"
       ]
      },
      {
       "metadata": {},
       "output_type": "pyout",
       "prompt_number": 21,
       "text": [
        "9"
       ]
      }
     ],
     "prompt_number": 21
    },
    {
     "cell_type": "code",
     "collapsed": false,
     "input": [
      "s = 0\n",
      "for outlier in outliers2['id']:\n",
      "    if outlier in positive_ids['id'].values:\n",
      "        s += 1\n",
      "        print outlier\n",
      "s"
     ],
     "language": "python",
     "metadata": {},
     "outputs": [
      {
       "output_type": "stream",
       "stream": "stdout",
       "text": [
        "PF3D7_0526600\n",
        "PF3D7_1038400\n",
        "PF3D7_1024800\n",
        "PF3D7_1149000\n"
       ]
      },
      {
       "metadata": {},
       "output_type": "pyout",
       "prompt_number": 22,
       "text": [
        "4"
       ]
      }
     ],
     "prompt_number": 22
    },
    {
     "cell_type": "markdown",
     "metadata": {},
     "source": [
      "## Fimo-0.01"
     ]
    },
    {
     "cell_type": "code",
     "collapsed": false,
     "input": [
      "norm1 = read_table(data + \"fimo-0.01-3/SBM1_norm_hits.txt\")\n",
      "norm2 = read_table(data + \"fimo-0.01-3/SBM2_norm_hits.txt\")\n",
      "outliers1 = read_table(data + \"fimo-0.01-3/SBM1_outliers.txt\")\n",
      "outliers2 = read_table(data + \"fimo-0.01-3/SBM2_outliers.txt\")"
     ],
     "language": "python",
     "metadata": {},
     "outputs": [],
     "prompt_number": 23
    },
    {
     "cell_type": "code",
     "collapsed": false,
     "input": [
      "s = 0\n",
      "for outlier in outliers1['id']:\n",
      "    if outlier in positive_ids['id'].values:\n",
      "        s += 1\n",
      "        print outlier\n",
      "s"
     ],
     "language": "python",
     "metadata": {},
     "outputs": [
      {
       "output_type": "stream",
       "stream": "stdout",
       "text": [
        "PF3D7_0612200\n",
        "PF3D7_1007700\n",
        "PF3D7_0804700\n",
        "PF3D7_1229000\n",
        "PF3D7_1131100\n",
        "PF3D7_1412600\n",
        "PF3D7_0826100\n",
        "PF3D7_1035200\n",
        "PF3D7_1149000\n",
        "PF3D7_1240900\n",
        "PF3D7_0627100\n",
        "PF3D7_0900100\n",
        "PF3D7_1037500\n",
        "PF3D7_1307400\n",
        "PF3D7_0801300\n",
        "PF3D7_0317700\n",
        "PF3D7_1240400\n",
        "PF3D7_1132000\n",
        "PF3D7_0811900\n",
        "PF3D7_1150400\n",
        "PF3D7_1442600\n",
        "PF3D7_0303100\n",
        "PF3D7_0317100\n",
        "PF3D7_1100100\n",
        "PF3D7_1014300\n",
        "PF3D7_1247400\n",
        "PF3D7_0903700\n",
        "PF3D7_1024800\n",
        "PF3D7_0526600\n",
        "PF3D7_0724900\n",
        "PF3D7_0508900\n",
        "PF3D7_0821100\n",
        "PF3D7_0630000\n",
        "PF3D7_1209300\n",
        "PF3D7_0104300\n",
        "PF3D7_0305500\n",
        "PF3D7_0207500\n",
        "PF3D7_1038400\n",
        "PF3D7_1352700\n",
        "PF3D7_0504800\n",
        "PF3D7_1318300\n"
       ]
      },
      {
       "metadata": {},
       "output_type": "pyout",
       "prompt_number": 24,
       "text": [
        "41"
       ]
      }
     ],
     "prompt_number": 24
    },
    {
     "cell_type": "code",
     "collapsed": false,
     "input": [
      "s = 0\n",
      "for outlier in outliers2['id']:\n",
      "    if outlier in positive_ids['id'].values:\n",
      "        s += 1\n",
      "        print outlier\n",
      "s"
     ],
     "language": "python",
     "metadata": {},
     "outputs": [
      {
       "output_type": "stream",
       "stream": "stdout",
       "text": [
        "PF3D7_0612200\n",
        "PF3D7_1007700\n",
        "PF3D7_0723500\n",
        "PF3D7_0804700\n",
        "PF3D7_1229000\n",
        "PF3D7_1432400\n",
        "PF3D7_1428000\n",
        "PF3D7_1131100\n",
        "PF3D7_1412600\n",
        "PF3D7_0533100\n",
        "PF3D7_1241200\n",
        "PF3D7_0826100\n",
        "PF3D7_1035200\n",
        "PF3D7_1149000\n",
        "PF3D7_1240900\n",
        "PF3D7_0627100\n",
        "PF3D7_1432300\n",
        "PF3D7_1038400\n",
        "PF3D7_0707200\n",
        "PF3D7_0900100\n",
        "PF3D7_0819300\n",
        "PF3D7_1037500\n",
        "PF3D7_1307400\n",
        "PF3D7_1113000\n",
        "PF3D7_0801300\n",
        "PF3D7_0317700\n",
        "PF3D7_1240400\n",
        "PF3D7_1132000\n",
        "PF3D7_0811900\n",
        "PF3D7_1150400\n",
        "PF3D7_1201700\n",
        "PF3D7_1442600\n",
        "PF3D7_0303100\n",
        "PF3D7_0317100\n",
        "PF3D7_1100100\n",
        "PF3D7_1200600"
       ]
      },
      {
       "output_type": "stream",
       "stream": "stdout",
       "text": [
        "\n",
        "PF3D7_1014300\n",
        "PF3D7_1247400\n",
        "PF3D7_0903700\n",
        "PF3D7_1030500\n",
        "PF3D7_1024800\n",
        "PF3D7_0526600\n",
        "PF3D7_0724900\n",
        "PF3D7_0909700\n",
        "PF3D7_0508900\n",
        "PF3D7_0821100\n",
        "PF3D7_0321100\n",
        "PF3D7_0630000\n",
        "PF3D7_0204900\n",
        "PF3D7_1209300\n",
        "PF3D7_0104300\n",
        "PF3D7_0305500\n",
        "PF3D7_0207500\n",
        "PF3D7_1352700\n",
        "PF3D7_0910700\n",
        "PF3D7_0504800\n",
        "PF3D7_1318300\n"
       ]
      },
      {
       "metadata": {},
       "output_type": "pyout",
       "prompt_number": 25,
       "text": [
        "57"
       ]
      }
     ],
     "prompt_number": 25
    },
    {
     "cell_type": "code",
     "collapsed": false,
     "input": [],
     "language": "python",
     "metadata": {},
     "outputs": []
    }
   ],
   "metadata": {}
  }
 ]
}